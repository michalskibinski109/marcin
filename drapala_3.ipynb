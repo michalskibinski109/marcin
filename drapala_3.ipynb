{
 "cells": [
  {
   "cell_type": "code",
   "execution_count": 37,
   "metadata": {},
   "outputs": [],
   "source": [
    "import numpy as np\n",
    "from pprint import pprint"
   ]
  },
  {
   "cell_type": "code",
   "execution_count": 44,
   "metadata": {},
   "outputs": [
    {
     "ename": "TypeError",
     "evalue": "Cannot interpret '1' as a data type",
     "output_type": "error",
     "traceback": [
      "\u001b[1;31m---------------------------------------------------------------------------\u001b[0m",
      "\u001b[1;31mTypeError\u001b[0m                                 Traceback (most recent call last)",
      "Cell \u001b[1;32mIn [44], line 22\u001b[0m\n\u001b[0;32m     20\u001b[0m \u001b[39m# np.array([[1,2,3],[4,5,6]]).shape[0]\u001b[39;00m\n\u001b[0;32m     21\u001b[0m X \u001b[39m=\u001b[39m np\u001b[39m.\u001b[39marray([[\u001b[39m1\u001b[39m,\u001b[39m2\u001b[39m,\u001b[39m3\u001b[39m],[\u001b[39m4\u001b[39m,\u001b[39m5\u001b[39m,\u001b[39m6\u001b[39m]])\n\u001b[1;32m---> 22\u001b[0m anwser \u001b[39m=\u001b[39m onesToArray(X, \u001b[39m'\u001b[39;49m\u001b[39mu\u001b[39;49m\u001b[39m'\u001b[39;49m)\n\u001b[0;32m     23\u001b[0m anwser\n",
      "Cell \u001b[1;32mIn [44], line 13\u001b[0m, in \u001b[0;36monesToArray\u001b[1;34m(X, d)\u001b[0m\n\u001b[0;32m     11\u001b[0m     Xprim \u001b[39m=\u001b[39m np\u001b[39m.\u001b[39mhstack((np\u001b[39m.\u001b[39mones((rows,\u001b[39m1\u001b[39m)), X))\n\u001b[0;32m     12\u001b[0m \u001b[39melif\u001b[39;00m d \u001b[39m==\u001b[39m \u001b[39m'\u001b[39m\u001b[39mu\u001b[39m\u001b[39m'\u001b[39m:    \n\u001b[1;32m---> 13\u001b[0m     Xprim \u001b[39m=\u001b[39m np\u001b[39m.\u001b[39mvstack((X, np\u001b[39m.\u001b[39;49mones(cols,\u001b[39m1\u001b[39;49m)))\n\u001b[0;32m     14\u001b[0m \u001b[39melif\u001b[39;00m d \u001b[39m==\u001b[39m \u001b[39m'\u001b[39m\u001b[39md\u001b[39m\u001b[39m'\u001b[39m: \n\u001b[0;32m     15\u001b[0m     Xprim \u001b[39m=\u001b[39m np\u001b[39m.\u001b[39mvstack((np\u001b[39m.\u001b[39mones((cols,\u001b[39m1\u001b[39m)), X))\n",
      "File \u001b[1;32mc:\\Users\\test\\AppData\\Local\\Programs\\Python\\Python39\\lib\\site-packages\\numpy\\core\\numeric.py:204\u001b[0m, in \u001b[0;36mones\u001b[1;34m(shape, dtype, order, like)\u001b[0m\n\u001b[0;32m    201\u001b[0m \u001b[39mif\u001b[39;00m like \u001b[39mis\u001b[39;00m \u001b[39mnot\u001b[39;00m \u001b[39mNone\u001b[39;00m:\n\u001b[0;32m    202\u001b[0m     \u001b[39mreturn\u001b[39;00m _ones_with_like(shape, dtype\u001b[39m=\u001b[39mdtype, order\u001b[39m=\u001b[39morder, like\u001b[39m=\u001b[39mlike)\n\u001b[1;32m--> 204\u001b[0m a \u001b[39m=\u001b[39m empty(shape, dtype, order)\n\u001b[0;32m    205\u001b[0m multiarray\u001b[39m.\u001b[39mcopyto(a, \u001b[39m1\u001b[39m, casting\u001b[39m=\u001b[39m\u001b[39m'\u001b[39m\u001b[39munsafe\u001b[39m\u001b[39m'\u001b[39m)\n\u001b[0;32m    206\u001b[0m \u001b[39mreturn\u001b[39;00m a\n",
      "\u001b[1;31mTypeError\u001b[0m: Cannot interpret '1' as a data type"
     ]
    }
   ],
   "source": [
    "\n",
    "def onesToArray(X, d):\n",
    "    \"\"\"\n",
    "    X - orginal array\n",
    "    d - dimension of the array\n",
    "    \"\"\"\n",
    "    rows = X.shape[0]\n",
    "    cols = X.shape[1]\n",
    "    if d == 'r':\n",
    "        Xprim = np.hstack((X, np.ones((rows,1))))\n",
    "    elif d == 'l':\n",
    "        Xprim = np.hstack((np.ones((rows,1)), X))\n",
    "    elif d == 'u':    \n",
    "        Xprim = np.vstack((X, np.ones(cols,1)))\n",
    "    elif d == 'd': \n",
    "        Xprim = np.vstack((np.ones((cols,1)), X))\n",
    "    else:\n",
    "        print(\"Wrong dimension type u, d, r, l\")\n",
    "    return Xprim\n",
    "        \n",
    "# np.array([[1,2,3],[4,5,6]]).shape[0]\n",
    "X = np.array([[1,2,3],[4,5,6]])\n",
    "anwser = onesToArray(X, 'u')\n",
    "anwser"
   ]
  },
  {
   "cell_type": "markdown",
   "metadata": {},
   "source": [
    " - `hstack` - Stack arrays in sequence horizontally \n",
    " - `vstack` - Stack arrays in sequence vertically\n",
    "```python\n",
    "a = np.array((1,2,3)) # macierz orginalna\n",
    "b = np.array((4,5,6)) # macierz z jedynkami\n",
    "np.hstack((a,b))\n",
    ">>> array([1, 2, 3, 4, 5, 6])\n",
    "```\n",
    "a + b # z prawej\n",
    "b + a # z lewej\n",
    "\n"
   ]
  },
  {
   "cell_type": "code",
   "execution_count": 39,
   "metadata": {},
   "outputs": [
    {
     "data": {
      "text/plain": [
       "array([[1., 2., 3., 1.],\n",
       "       [4., 5., 6., 1.]])"
      ]
     },
     "execution_count": 39,
     "metadata": {},
     "output_type": "execute_result"
    }
   ],
   "source": [
    "def onesToArray(X, d):\n",
    "    \"\"\"\n",
    "    X - orginal array\n",
    "    d - dimension of the array\n",
    "    \"\"\"\n",
    "    rows = X.shape[0]\n",
    "    cols = X.shape[1]\n",
    "    if d == 'u':\n",
    "        Xprim = np.hstack((X, np.ones((rows,1))))\n",
    "    elif d == 'd':\n",
    "        Xprim = np.hstack(np.ones(rows,1), X)\n",
    "    elif d == 'r':    \n",
    "        Xprim = np.vstack(X, np.ones(cols))\n",
    "    elif d == 'l': \n",
    "        Xprim = np.vstack(X, np.ones(cols))\n",
    "    else:\n",
    "        print(\"Wrong dimension type u, d, r, l\")\n",
    "    return Xprim\n",
    "X = np.array([[1,2,3],[4,5,6]])\n",
    "X_prim = onesToArray(X, 'u')\n",
    "X_prim"
   ]
  }
 ],
 "metadata": {
  "kernelspec": {
   "display_name": "Python 3.9.13 64-bit",
   "language": "python",
   "name": "python3"
  },
  "language_info": {
   "codemirror_mode": {
    "name": "ipython",
    "version": 3
   },
   "file_extension": ".py",
   "mimetype": "text/x-python",
   "name": "python",
   "nbconvert_exporter": "python",
   "pygments_lexer": "ipython3",
   "version": "3.9.13"
  },
  "orig_nbformat": 4,
  "vscode": {
   "interpreter": {
    "hash": "843afd09e8106438b128dab73a29344ccea6560bcd1a636ecaea26e653e2cafe"
   }
  }
 },
 "nbformat": 4,
 "nbformat_minor": 2
}
