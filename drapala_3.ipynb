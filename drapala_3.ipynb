{
 "cells": [
  {
   "cell_type": "code",
   "execution_count": 37,
   "metadata": {},
   "outputs": [],
   "source": [
    "import numpy as np\n",
    "from pprint import pprint"
   ]
  },
  {
   "cell_type": "code",
   "execution_count": 56,
   "metadata": {},
   "outputs": [
    {
     "data": {
      "text/plain": [
       "3"
      ]
     },
     "execution_count": 56,
     "metadata": {},
     "output_type": "execute_result"
    }
   ],
   "source": [
    "def sum_nums(a:int, b:int) -> int:\n",
    "    return a+b\n",
    "sum_nums(a = 1,b = 2) # (1)\n",
    "sum_nums(1, 2) # (2)"
   ]
  },
  {
   "cell_type": "code",
   "execution_count": 69,
   "metadata": {},
   "outputs": [
    {
     "name": "stdout",
     "output_type": "stream",
     "text": [
      "array([1, 2, 3])\n",
      "(3,)\n",
      "a1: 2\n",
      "array([[1],\n",
      "       [2],\n",
      "       [3]])\n",
      "(3, 1)\n",
      "a1: [2]\n"
     ]
    }
   ],
   "source": [
    "a = np.array([1,2,3]) # a1, a2, a3\n",
    "pprint(a)\n",
    "pprint(a.shape)\n",
    "print(f'a1: {a[1]}') \n",
    "a = a.reshape(3,1) # czasem nie musisz przypuisywac a czasem musisz\n",
    "pprint(a)\n",
    "pprint(a.shape)\n",
    "print(f'a1: {a[1]}') \n"
   ]
  },
  {
   "cell_type": "code",
   "execution_count": 80,
   "metadata": {},
   "outputs": [
    {
     "name": "stdout",
     "output_type": "stream",
     "text": [
      "array([[1, 2, 3],\n",
      "       [4, 5, 6]])\n",
      "array([1, 2, 3, 4, 5, 6])\n",
      "<class 'numpy.ndarray'>\n"
     ]
    }
   ],
   "source": [
    "import numpy as np\n",
    "from pprint import pprint,3], [4,5,6]]) # \n",
    "pprint(b)\n",
    "b = b.reshape(-1) # flatten\n",
    "pprint(b)"
   ]
  },
  {
   "cell_type": "code",
   "execution_count": 53,
   "metadata": {},
   "outputs": [
    {
     "data": {
      "text/plain": [
       "array([[1., 1., 1., 1., 1.],\n",
       "       [1., 1., 2., 3., 1.],\n",
       "       [1., 4., 5., 6., 1.]])"
      ]
     },
     "execution_count": 53,
     "metadata": {},
     "output_type": "execute_result"
    }
   ],
   "source": [
    "\n",
    "def onesToArray(X: np.ndarray, d: str) -> np.ndarray:\n",
    "    \"\"\"\n",
    "    X - orginal array\n",
    "    d - dimension of the array\n",
    "    \"\"\"\n",
    "    rows = X.shape[0]\n",
    "    cols = X.shape[1]\n",
    "    if d == 'r':\n",
    "        Xprim = np.hstack((X, np.ones(shape=(rows,1))))\n",
    "    elif d == 'l':\n",
    "        Xprim = np.hstack((np.ones((rows,1)), X))\n",
    "    elif d == 'd':    \n",
    "        Xprim = np.vstack((X, np.ones((1,cols))))\n",
    "    elif d == 'u': \n",
    "        Xprim = np.vstack((np.ones((1,cols)), X))\n",
    "    else:\n",
    "        print(\"Wrong dimension type u, d, r, l\")\n",
    "    return Xprim\n",
    "        \n",
    "# np.array([[1,2,3],[4,5,6]]).shape[0]\n",
    "X_input = np.array([[1,2,3],[4,5,6]])\n",
    "anwser = onesToArray(X = X_input, d='u')\n",
    "anwser = onesToArray(anwser, 'r')\n",
    "anwser = onesToArray(anwser, 'l')\n",
    "anwser\n"
   ]
  },
  {
   "cell_type": "markdown",
   "metadata": {},
   "source": [
    " - `hstack` - Stack arrays in sequence horizontally \n",
    " - `vstack` - Stack arrays in sequence vertically\n",
    "```python\n",
    "a = np.array((1,2,3)) # macierz orginalna\n",
    "b = np.array((4,5,6)) # macierz z jedynkami\n",
    "np.hstack((a,b))\n",
    ">>> array([1, 2, 3, 4, 5, 6])\n",
    "```\n",
    "a + b # z prawej\n",
    "b + a # z lewej\n",
    "\n"
   ]
  }
 ],
 "metadata": {
  "kernelspec": {
   "display_name": "Python 3.9.13 64-bit",
   "language": "python",
   "name": "python3"
  },
  "language_info": {
   "codemirror_mode": {
    "name": "ipython",
    "version": 3
   },
   "file_extension": ".py",
   "mimetype": "text/x-python",
   "name": "python",
   "nbconvert_exporter": "python",
   "pygments_lexer": "ipython3",
   "version": "3.9.13"
  },
  "orig_nbformat": 4,
  "vscode": {
   "interpreter": {
    "hash": "843afd09e8106438b128dab73a29344ccea6560bcd1a636ecaea26e653e2cafe"
   }
  }
 },
 "nbformat": 4,
 "nbformat_minor": 2
}
