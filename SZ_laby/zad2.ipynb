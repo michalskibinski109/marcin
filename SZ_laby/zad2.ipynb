{
 "cells": [],
 "metadata": {
  "kernelspec": {
   "display_name": "Python 3.9.13 64-bit",
   "language": "python",
   "name": "python3"
  },
  "language_info": {
   "name": "python",
   "version": "3.9.13"
  },
  "orig_nbformat": 4,
  "vscode": {
   "interpreter": {
    "hash": "36c4e15d3501f1b8c035377f86e47d79812678382be8e661e791815c966f0344"
   }
  }
 },
 "nbformat": 4,
 "nbformat_minor": 2
}
