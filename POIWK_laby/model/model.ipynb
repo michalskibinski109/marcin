{
 "cells": [
  {
   "cell_type": "markdown",
   "metadata": {},
   "source": [
    "### generic model for face detection (based on an object detection model)\n",
    "### model\n",
    "- `VGGIG` - predefined model for object detection\n",
    "- input \n",
    "    - image [200 x 200]\n",
    "- output \n",
    "    - [0,1] - 0 if face is not present on the image, 1 otherwise\n",
    "    - x,y,w,h - coordinates of the face on the image\n",
    "### dictionary\n",
    "- bounding box - box that marks area where our object is present (in our case face)\n",
    "### libraries \n",
    "- `labelme` - Library that contains method that we will use to label data\n"
   ]
  },
  {
   "cell_type": "code",
   "execution_count": 1,
   "metadata": {},
   "outputs": [],
   "source": [
    "from pathlib import Path # to get the path of the current file\n",
    "import time # to measure time\n",
    "import uuid # for unique id\n",
    "import cv2"
   ]
  },
  {
   "cell_type": "markdown",
   "metadata": {},
   "source": [
    "# collect data"
   ]
  },
  {
   "cell_type": "code",
   "execution_count": 2,
   "metadata": {},
   "outputs": [
    {
     "data": {
      "text/plain": [
       "WindowsPath('C:/Users/miskibin/Desktop/studies/POIWK_laby/model/data/images')"
      ]
     },
     "execution_count": 2,
     "metadata": {},
     "output_type": "execute_result"
    }
   ],
   "source": [
    "DATA_PATH = Path.cwd() / 'data' / 'images' # path to the data folder\n",
    "IMAGES_NUMBER = 0\n",
    "DATA_PATH.mkdir(parents=True, exist_ok=True)\n",
    "DATA_PATH"
   ]
  },
  {
   "cell_type": "code",
   "execution_count": 3,
   "metadata": {},
   "outputs": [],
   "source": [
    "capture = cv2.VideoCapture(0) # 0 is the default camera\n",
    "for num in range(IMAGES_NUMBER):\n",
    "    print(f'Image {num}/{IMAGES_NUMBER}')\n",
    "    ret, frame = capture.read()\n",
    "    if ret:\n",
    "        img_name = str(Path(DATA_PATH / f'{uuid.uuid4()}.jpg').resolve())\n",
    "        cv2.imwrite(img_name, frame)\n",
    "    cv2.imshow('frame', frame)\n",
    "    time.sleep(.5) \n",
    "    if cv2.waitKey(1) & 0xFF == ord('q'):\n",
    "        break\n",
    "capture.release()\n",
    "cv2.destroyAllWindows()"
   ]
  }
 ],
 "metadata": {
  "kernelspec": {
   "display_name": "Python 3.10.5 64-bit",
   "language": "python",
   "name": "python3"
  },
  "language_info": {
   "codemirror_mode": {
    "name": "ipython",
    "version": 3
   },
   "file_extension": ".py",
   "mimetype": "text/x-python",
   "name": "python",
   "nbconvert_exporter": "python",
   "pygments_lexer": "ipython3",
   "version": "3.10.5"
  },
  "vscode": {
   "interpreter": {
    "hash": "3be9e5696a189367ac437c9ad4ada2fc5850f94c6838548f2cfb30342767cceb"
   }
  }
 },
 "nbformat": 4,
 "nbformat_minor": 2
}
