{
 "cells": [
  {
   "cell_type": "markdown",
   "metadata": {},
   "source": [
    "### generic model for face detection (based on an object detection model)\n",
    "### model\n",
    "- `VGGIG` - predefined model for object detection\n",
    "- input \n",
    "    - image [200 x 200]\n",
    "- output \n",
    "    - [0,1] - 0 if face is not present on the image, 1 otherwise\n",
    "    - x,y,w,h - coordinates of the face on the image\n",
    "### dictionary\n",
    "- bounding box - box that marks area where our object is present (in our case face)\n",
    "### libraries \n",
    "- `labelme` - Library that contains method that we will use to label data\n"
   ]
  },
  {
   "cell_type": "code",
   "execution_count": null,
   "metadata": {},
   "outputs": [],
   "source": []
  }
 ],
 "metadata": {
  "language_info": {
   "name": "python"
  },
  "orig_nbformat": 4
 },
 "nbformat": 4,
 "nbformat_minor": 2
}
