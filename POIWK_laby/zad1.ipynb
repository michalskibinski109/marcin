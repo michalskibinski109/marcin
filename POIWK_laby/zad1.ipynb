{
 "cells": [
  {
   "cell_type": "code",
   "execution_count": null,
   "metadata": {},
   "outputs": [],
   "source": []
  },
  {
   "cell_type": "markdown",
   "metadata": {},
   "source": [
    "$$ a = Y^{T}X(X^{T}X)^{-1} $$\n",
    "$$ \\underset{1\\times k}{\\mathrm{a}} = [a_1 ... a_k] $$\n",
    "$$ \\underset{N\\times k}{\\mathrm{X}} $$\n",
    "$$ \\underset{N\\times 1}{\\mathrm{Y}} $$"
   ]
  },
  {
   "cell_type": "code",
   "execution_count": null,
   "metadata": {},
   "outputs": [],
   "source": [
    "import numpy as np\n",
    "import matplotlib.pyplot as plt"
   ]
  },
  {
   "cell_type": "code",
   "execution_count": 78,
   "metadata": {},
   "outputs": [],
   "source": [
    "class LinearModel:\n",
    "    def __init__(self, method: str = \"analitical\"):\n",
    "        self.fit_func = method\n",
    "        self.params = None\n",
    "\n",
    "    @property\n",
    "    def fit_func(self):\n",
    "        return self._fit_func\n",
    "\n",
    "    @fit_func.setter\n",
    "    def fit_func(self, method):\n",
    "        if method not in [\"analitical\", \"numerical\"]:\n",
    "            raise ValueError(\"Unknown method\")\n",
    "        if method == \"analitical\":\n",
    "            self._fit_func = self.__fit_analitical\n",
    "        else:\n",
    "            self._fit_func = self.__fit_numerical\n",
    "\n",
    "    def __fit_analitical(self, X: np.ndarray, Y: np.ndarray):\n",
    "        X_ext = np.hstack((np.ones((X.shape[0], 1)), X))\n",
    "        self.params = Y.T @ X_ext @ np.linalg.inv(X_ext.T @ X_ext)\n",
    "\n",
    "    def __fit_numerical(self, X: np.ndarray, Y: np.ndarray):\n",
    "        pass\n",
    "\n",
    "    def fit(self, X, Y):\n",
    "        self.fit_func(X, Y)\n",
    "\n",
    "    def predict(self, X):\n",
    "        X_ext = np.hstack((np.ones((X.shape[0], 1)), X)) # add bias\n",
    "        Y_pred = X_ext @ self.params.T\n",
    "        return Y_pred\n",
    "\n",
    "    def plot(self, X, Y_pred, Y_true):\n",
    "        plt.scatter(X, Y_true, label=\"True\", color=\"red\")\n",
    "        plt.scatter(X, Y_pred, label=\"Predicted\", marker=\"x\", color=\"blue\")\n",
    "        plt.legend([\"Predicted\", \"True\"])\n",
    "        plt.show()\n",
    "\n",
    "    def __str__(self) -> str:\n",
    "        data = f\"Linear model with {self.fit_func.__name__.split('_')[-1]} method\\n\"\n",
    "        if self.params is not None:\n",
    "            data += f\" and parameters {self.params}\"\n",
    "        else:\n",
    "            data += \" not fitted to fit use `fit` method \"\n",
    "        return data\n"
   ]
  },
  {
   "cell_type": "code",
   "execution_count": 85,
   "metadata": {},
   "outputs": [
    {
     "name": "stdout",
     "output_type": "stream",
     "text": [
      "(1, 2)\n",
      "(20, 1) @ (1, 2)\n",
      "(20, 2) @ (1, 2)\n"
     ]
    },
    {
     "data": {
      "image/png": "[encoded data removed]",
      "text/plain": [
       "<Figure size 640x480 with 1 Axes>"
      ]
     },
     "metadata": {},
     "output_type": "display_data"
    }
   ],
   "source": [
    "model = LinearModel(\"analitical\")\n",
    "X = range(-10, 10)\n",
    "func = lambda x: 4 * x**5 + 3\n",
    "Y = [func(x) for x in X]\n",
    "X = np.array([X]).T\n",
    "Y = np.array([Y]).T\n",
    "model.fit(X, Y)\n",
    "print(model.params.shape)\n",
    "Y_pred =  model.predict(X)\n",
    "model.plot(X, Y_pred, Y)"
   ]
  },
  {
   "cell_type": "code",
   "execution_count": null,
   "metadata": {},
   "outputs": [],
   "source": []
  }
 ],
 "metadata": {
  "kernelspec": {
   "display_name": "Python 3.9.13 64-bit",
   "language": "python",
   "name": "python3"
  },
  "language_info": {
   "codemirror_mode": {
    "name": "ipython",
    "version": 3
   },
   "file_extension": ".py",
   "mimetype": "text/x-python",
   "name": "python",
   "nbconvert_exporter": "python",
   "pygments_lexer": "ipython3",
   "version": "3.9.13"
  },
  "orig_nbformat": 4,
  "vscode": {
   "interpreter": {
    "hash": "843afd09e8106438b128dab73a29344ccea6560bcd1a636ecaea26e653e2cafe"
   }
  }
 },
 "nbformat": 4,
 "nbformat_minor": 2
}
